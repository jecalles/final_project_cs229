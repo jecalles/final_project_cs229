{
 "cells": [
  {
   "cell_type": "code",
   "execution_count": 116,
   "metadata": {},
   "outputs": [],
   "source": [
    "import Bio\n",
    "import pandas\n",
    "#from context import src\n",
    "import skbio\n",
    "import io\n",
    "from skbio import DNA, RNA, Sequence\n",
    "import sklearn as sk\n",
    "import numpy as np\n",
    "\n",
    "from sklearn.preprocessing import LabelEncoder\n",
    "from sklearn.preprocessing import OneHotEncoder"
   ]
  },
  {
   "cell_type": "code",
   "execution_count": 119,
   "metadata": {},
   "outputs": [
    {
     "name": "stdout",
     "output_type": "stream",
     "text": [
      "['C' 'C' 'A' ... 'G' 'G' 'G']\n",
      "(230218,)\n",
      "[1 1 0 ... 2 2 2]\n",
      "  (0, 1)\t1.0\n",
      "  (1, 1)\t1.0\n",
      "  (2, 0)\t1.0\n",
      "  (3, 1)\t1.0\n",
      "  (4, 0)\t1.0\n",
      "  (5, 1)\t1.0\n",
      "  (6, 1)\t1.0\n",
      "  (7, 0)\t1.0\n",
      "  (8, 1)\t1.0\n",
      "  (9, 0)\t1.0\n",
      "  (10, 1)\t1.0\n",
      "  (11, 1)\t1.0\n",
      "  (12, 1)\t1.0\n",
      "  (13, 0)\t1.0\n",
      "  (14, 1)\t1.0\n",
      "  (15, 0)\t1.0\n",
      "  (16, 1)\t1.0\n",
      "  (17, 0)\t1.0\n",
      "  (18, 1)\t1.0\n",
      "  (19, 1)\t1.0\n",
      "  (20, 1)\t1.0\n",
      "  (21, 0)\t1.0\n",
      "  (22, 1)\t1.0\n",
      "  (23, 0)\t1.0\n",
      "  (24, 1)\t1.0\n",
      "  :\t:\n",
      "  (230193, 2)\t1.0\n",
      "  (230194, 3)\t1.0\n",
      "  (230195, 2)\t1.0\n",
      "  (230196, 2)\t1.0\n",
      "  (230197, 3)\t1.0\n",
      "  (230198, 2)\t1.0\n",
      "  (230199, 3)\t1.0\n",
      "  (230200, 2)\t1.0\n",
      "  (230201, 2)\t1.0\n",
      "  (230202, 2)\t1.0\n",
      "  (230203, 3)\t1.0\n",
      "  (230204, 2)\t1.0\n",
      "  (230205, 3)\t1.0\n",
      "  (230206, 2)\t1.0\n",
      "  (230207, 2)\t1.0\n",
      "  (230208, 3)\t1.0\n",
      "  (230209, 2)\t1.0\n",
      "  (230210, 3)\t1.0\n",
      "  (230211, 2)\t1.0\n",
      "  (230212, 3)\t1.0\n",
      "  (230213, 2)\t1.0\n",
      "  (230214, 3)\t1.0\n",
      "  (230215, 2)\t1.0\n",
      "  (230216, 2)\t1.0\n",
      "  (230217, 2)\t1.0\n"
     ]
    }
   ],
   "source": [
    "from Bio import SeqIO\n",
    "#SeqIO.parse(gb_file, \"gb\")\n",
    "#GCA_000146045.2\n",
    "#gb_file = \"NC_001133\"\n",
    "i=1\n",
    "for gb_record in SeqIO.parse(\"GCF_000146045.2_R64_genomic.gbff\", \"genbank\") :\n",
    "    # now do something with the record\n",
    "    #for feature in gb_record.features:\n",
    "    \n",
    "    if i ==1:\n",
    "        #print(gb_record.seq)\n",
    "        values = np.array(list(gb_record.seq.strip()))\n",
    "        print(values)\n",
    "        # integer encode\n",
    "        label_encoder = LabelEncoder()\n",
    "        print(np.shape(values))\n",
    "        integer_encoded = label_encoder.fit_transform(values)\n",
    "        print(integer_encoded)\n",
    "        # binary encode\n",
    "        onehot_encoder = OneHotEncoder(sparse=True)\n",
    "        integer_encoded = integer_encoded.reshape(len(integer_encoded), 1)\n",
    "        onehot_encoded = onehot_encoder.fit_transform(integer_encoded)\n",
    "        print(onehot_encoded)\n",
    "    #print  (gb_record.name, gb_record.features[1])\n",
    "    #print (repr(gb_record.seq))\n",
    "    i+=1"
   ]
  },
  {
   "cell_type": "code",
   "execution_count": 3,
   "metadata": {},
   "outputs": [
    {
     "name": "stdout",
     "output_type": "stream",
     "text": [
      "Solving environment: / ^C\n",
      "failed\n",
      "\n",
      "CondaError: KeyboardInterrupt\n",
      "\n"
     ]
    }
   ],
   "source": [
    "\n",
    "# Install a conda package in the current Jupyter kernel\n",
    "import sys\n",
    "!conda install --yes --prefix {sys.prefix} Bio\n"
   ]
  },
  {
   "cell_type": "code",
   "execution_count": 103,
   "metadata": {},
   "outputs": [],
   "source": [
    "#dna_seq=DNA.read(gb)\n",
    "#record = SeqIO.read(\"GCF_000146045.2_R64_genomic.gbff\", \"genbank\")\n",
    "\n",
    "dna='agtctca'"
   ]
  },
  {
   "cell_type": "code",
   "execution_count": 111,
   "metadata": {},
   "outputs": [
    {
     "name": "stdout",
     "output_type": "stream",
     "text": [
      "['a' 'g' 't' 'c' 't' 'c' 'a']\n",
      "(7,)\n",
      "[0 2 3 1 3 1 0]\n",
      "[[1. 0. 0. 0.]\n",
      " [0. 0. 1. 0.]\n",
      " [0. 0. 0. 1.]\n",
      " [0. 1. 0. 0.]\n",
      " [0. 0. 0. 1.]\n",
      " [0. 1. 0. 0.]\n",
      " [1. 0. 0. 0.]]\n",
      "['a']\n"
     ]
    },
    {
     "name": "stderr",
     "output_type": "stream",
     "text": [
      "/Users/rcperez/anaconda/lib/python3.5/site-packages/sklearn/preprocessing/label.py:151: DeprecationWarning: The truth value of an empty array is ambiguous. Returning False, but in future this will result in an error. Use `array.size > 0` to check that an array is not empty.\n",
      "  if diff:\n"
     ]
    }
   ],
   "source": [
    "values = np.array(list(dna.strip()))\n",
    "print(values)\n",
    "# integer encode\n",
    "label_encoder = LabelEncoder()\n",
    "print(np.shape(values))\n",
    "integer_encoded = label_encoder.fit_transform(values)\n",
    "print(integer_encoded)\n",
    "# binary encode\n",
    "onehot_encoder = OneHotEncoder(sparse=False)\n",
    "integer_encoded = integer_encoded.reshape(len(integer_encoded), 1)\n",
    "onehot_encoded = onehot_encoder.fit_transform(integer_encoded)\n",
    "print(onehot_encoded)\n",
    "# invert first example\n",
    "inverted = label_encoder.inverse_transform([np.argmax(onehot_encoded[0, :])])\n",
    "print(inverted)"
   ]
  },
  {
   "cell_type": "code",
   "execution_count": 83,
   "metadata": {},
   "outputs": [],
   "source": [
    "\n",
    "#SeqIO.parse(open(gb_file,\"r\"), \"gb\")\n",
    "\n",
    "#for record in SeqIO.parse(\"NC_001133\", \"gb\"):\n",
    "    #print(record)"
   ]
  },
  {
   "cell_type": "code",
   "execution_count": 84,
   "metadata": {},
   "outputs": [],
   "source": [
    "from Bio import Entrez\n",
    "\n",
    "\n",
    "Entrez.email = \"rcperez@stanford.edu\"\n",
    "search_term = \"Schizophyllum+commune[organism] AND genbank[filter] AND \"\n",
    "handle = Entrez.esearch(db=\"nucleotide\", term=search_term)\n",
    "genome_ids = Entrez.read(handle)['IdList']\n",
    "\n",
    "for genome_id in genome_ids:\n",
    "    record = Entrez.efetch(db=\"nucleotide\", id=genome_id, rettype=\"gbwithparts\", retmode=\"text\")\n",
    "    filename = 'GenBank_Record_{}.gbk'.format(genome_id)\n",
    "    #print('Writing:{}'.format(filename))\n",
    "    with open(filename, \"w\") as f:\n",
    "        f.write(record.read())\n",
    "#print(genome_ids)"
   ]
  },
  {
   "cell_type": "code",
   "execution_count": 21,
   "metadata": {},
   "outputs": [],
   "source": [
    "from Bio import Entrez"
   ]
  },
  {
   "cell_type": "code",
   "execution_count": 25,
   "metadata": {},
   "outputs": [],
   "source": [
    "def get_assembly_summary(id):\n",
    "    \"\"\"Get esummary for an entrez id\"\"\"\n",
    "    from Bio import Entrez\n",
    "    esummary_handle = Entrez.esummary(db=\"assembly\", id=id, report=\"full\")\n",
    "    esummary_record = Entrez.read(esummary_handle)\n",
    "    return esummary_record\n",
    "\n",
    "def get_assemblies(term, download=True, path='assemblies'):\n",
    "    \"\"\"Download genbank assemblies for a given search term.\n",
    "    Args:\n",
    "        term: search term, usually organism name\n",
    "        download: whether to download the results\n",
    "        path: folder to save to\n",
    "    \"\"\"\n",
    "\n",
    "    \n",
    "    #provide your own mail here\n",
    "    Entrez.email = \"rcperez@stanford.edu\"\n",
    "    handle = Entrez.esearch(db=\"assembly\", term=term, retmax='200')\n",
    "    record = Entrez.read(handle)\n",
    "    ids = record['IdList']\n",
    "    #print (f'found {len(ids)} ids')\n",
    "    links = []\n",
    "    for id in ids:\n",
    "        #get summary\n",
    "        summary = get_assembly_summary(id)\n",
    "        #get ftp link\n",
    "        url = summary['DocumentSummarySet']['DocumentSummary'][0]['FtpPath_RefSeq']\n",
    "        if url == '':\n",
    "            continue\n",
    "        label = os.path.basename(url)\n",
    "        #get the fasta link - change this to get other formats\n",
    "        link = os.path.join(url,label+'_genomic.fna.gz')\n",
    "        print (link)\n",
    "        links.append(link)\n",
    "        #if download == True:\n",
    "            #download link\n",
    "            #urllib.request.urlretrieve(link, f'{label}.fna.gz')\n",
    "    return links"
   ]
  },
  {
   "cell_type": "code",
   "execution_count": 27,
   "metadata": {},
   "outputs": [
    {
     "data": {
      "text/plain": [
       "[]"
      ]
     },
     "execution_count": 27,
     "metadata": {},
     "output_type": "execute_result"
    }
   ],
   "source": [
    "get_assemblies('Schizophyllum+commune[organism] AND genbank[filter]')"
   ]
  },
  {
   "cell_type": "code",
   "execution_count": null,
   "metadata": {},
   "outputs": [],
   "source": []
  }
 ],
 "metadata": {
  "kernelspec": {
   "display_name": "Python [Root]",
   "language": "python",
   "name": "Python [Root]"
  },
  "language_info": {
   "codemirror_mode": {
    "name": "ipython",
    "version": 3
   },
   "file_extension": ".py",
   "mimetype": "text/x-python",
   "name": "python",
   "nbconvert_exporter": "python",
   "pygments_lexer": "ipython3",
   "version": "3.5.5"
  }
 },
 "nbformat": 4,
 "nbformat_minor": 4
}
